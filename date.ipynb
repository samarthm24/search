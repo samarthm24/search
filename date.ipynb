{
 "cells": [
  {
   "cell_type": "code",
   "execution_count": 4,
   "metadata": {},
   "outputs": [],
   "source": [
    "import nltk\n",
    "import re\n",
    "from datetime import date"
   ]
  },
  {
   "cell_type": "code",
   "execution_count": 6,
   "metadata": {},
   "outputs": [
    {
     "data": {
      "text/plain": [
       "datetime.date(2018, 1, 4)"
      ]
     },
     "execution_count": 6,
     "metadata": {},
     "output_type": "execute_result"
    }
   ],
   "source": [
    "query=\"Hi how are you 4th jan 18\"\n",
    "q=date_extractor(query)\n",
    "q"
   ]
  },
  {
   "cell_type": "code",
   "execution_count": 5,
   "metadata": {},
   "outputs": [],
   "source": [
    "def date_extractor(query):\n",
    "    word_tok=nltk.word_tokenize(query)\n",
    "    today=date.today()\n",
    "    if('today' in word_tok):\n",
    "        return date.today()\n",
    "    for i in word_tok:\n",
    "        if(re.search(r'[0-9]+\\s?-\\s?[0-9]+\\s?-\\s?[0-9]+',i)):\n",
    "            temp=re.search(r'[0-9]+\\s?-\\s?[0-9]+\\s?-\\s?[0-9]+',i).group()\n",
    "            temp=temp.split('-')\n",
    "            if(len(temp[2])==2):\n",
    "                temp[2]='20'+temp[2]\n",
    "            if(len(temp[2])==1):\n",
    "                temp[2]='200'+temp[2]\n",
    "            my_date=date(int(temp[2]),int(temp[1]),int(temp[0]))\n",
    "            return my_date\n",
    "        elif(re.search(r'[0-9]+\\s?/\\s?[0-9]+\\s?/\\s?[0-9]+',i)):\n",
    "            temp=re.search(r'[0-9]+\\s?/\\s?[0-9]+\\s?/\\s?[0-9]+',i).group()\n",
    "            temp=temp.split('/')\n",
    "            if(len(temp[2])==2):\n",
    "                temp[2]='20'+temp[2]\n",
    "            if(len(temp[2])==1):\n",
    "                temp[2]='200'+temp[2]\n",
    "            my_date=date(int(temp[2]),int(temp[1]),int(temp[0]))\n",
    "            return my_date\n",
    "        elif(re.search(r'[0-9]+\\s?.\\s?[0-9]+\\s?.\\s?[0-9]+',i)):\n",
    "            temp=re.search(r'[0-9]+\\s?.\\s?[0-9]+\\s?.\\s?[0-9]+',i).group()\n",
    "            temp=temp.split('.')\n",
    "            if(len(temp[2])==2):\n",
    "                temp[2]='20'+temp[2]\n",
    "            if(len(temp[2])==1):\n",
    "                temp[2]='200'+temp[2]\n",
    "            my_date=date(int(temp[2]),int(temp[1]),int(temp[0]))\n",
    "            return my_date\n",
    "    month_list1=['january','february','march','april','may','june','july','august','september','october','november','december']\n",
    "    month_list2=['jan','feb','mar','apr','may','jun','jul','aug','sep','oct','nov','dec']\n",
    "    month=today.month\n",
    "    day=today.day\n",
    "    year=today.year\n",
    "    for i in word_tok:\n",
    "        if(i in month_list1):\n",
    "            month=month_list1.index(i)+1\n",
    "            break\n",
    "        if(i in month_list2):\n",
    "            month=month_list2.index(i)+1\n",
    "            break\n",
    "    for i in word_tok:\n",
    "        if(re.search(r'[0-9]?[0-9][trn]?[hd]?',i)):\n",
    "            temp=re.search(r'[0-9]?[0-9][trn]?[hd]?',i).group()\n",
    "            day=''\n",
    "            for j in temp:\n",
    "                if(j.isdigit()):\n",
    "                    day+=j\n",
    "            day=int(day)\n",
    "            break\n",
    "    for i in word_tok:\n",
    "        if(re.search(r'[0-9][0-9][0-9][0-9]',i)):\n",
    "            year=re.search(r'[0-9][0-9][0-9][0-9]',i).group()\n",
    "            year=int(year)\n",
    "            break\n",
    "    my_date=date(year,month,day)\n",
    "    return my_date"
   ]
  },
  {
   "cell_type": "code",
   "execution_count": null,
   "metadata": {},
   "outputs": [],
   "source": []
  }
 ],
 "metadata": {
  "kernelspec": {
   "display_name": "Python 3",
   "language": "python",
   "name": "python3"
  },
  "language_info": {
   "codemirror_mode": {
    "name": "ipython",
    "version": 3
   },
   "file_extension": ".py",
   "mimetype": "text/x-python",
   "name": "python",
   "nbconvert_exporter": "python",
   "pygments_lexer": "ipython3",
   "version": "3.6.5"
  }
 },
 "nbformat": 4,
 "nbformat_minor": 2
}
