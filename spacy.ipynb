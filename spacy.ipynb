{
 "cells": [
  {
   "cell_type": "code",
   "execution_count": 2,
   "metadata": {},
   "outputs": [],
   "source": [
    "import spacy\n",
    "import en_core_web_sm"
   ]
  },
  {
   "cell_type": "code",
   "execution_count": 14,
   "metadata": {},
   "outputs": [
    {
     "name": "stdout",
     "output_type": "stream",
     "text": [
      "This: DET\n",
      "is: VERB\n",
      "just: ADV\n",
      "an: DET\n",
      "example: NOUN\n"
     ]
    }
   ],
   "source": [
    "nlp = spacy.load('en')\n",
    "#_spacy = spacy.load('en')\n",
    "doc = nlp(\"This is just an example\")\n",
    "for token in doc:\n",
    "    print(str(token) + \": \" + token.pos_)\n",
    " \n",
    "# This: DET\n",
    "# is: VERB\n",
    "# just: ADV\n",
    "# an: DET\n",
    "# example: NOUN"
   ]
  },
  {
   "cell_type": "code",
   "execution_count": 3,
   "metadata": {},
   "outputs": [
    {
     "data": {
      "text/plain": [
       "[[['red', 'stripped', 'and', 'blue', 'or', 'green', 'and', 'white'], 'shirt']]"
      ]
     },
     "execution_count": 3,
     "metadata": {},
     "output_type": "execute_result"
    }
   ],
   "source": [
    "body={'head':['cap','hat','hair'],'torso':['shirt','tshirt','blazer','suit','sweater','jacket'],'leg':['shorts','pant','jeans','trousers'],'feet':['sandals','flipflops','sneakers','boots','shoes']}\n",
    "\n",
    "x=dict()\n",
    "par=[]\n",
    "nlp = spacy.load('en')\n",
    "#_spacy = spacy.load('en')\n",
    "doc = nlp(\"He is wearing red and blue or green and white stripped shirt\") \n",
    "for token in doc:\n",
    "    x[str(token)]=[str(child) for child in token.children]\n",
    "for token in doc:\n",
    "    #print(token.text,[child for child in token.children])\n",
    "    for i in body.keys():\n",
    "        if(token.text in body[i]):\n",
    "            temp_list=[str(child) for child in token.children]\n",
    "            children=[str(child) for child in token.children]\n",
    "            while(len(temp_list)!=0):\n",
    "                if(len(x[temp_list[0]])!=0):\n",
    "                    for j in x[temp_list[0]]:\n",
    "                        children.append(j)\n",
    "                        temp_list.append(j)\n",
    "                temp_list.remove(temp_list[0])\n",
    "            temp=[children,str(token)]\n",
    "            par.append(temp)\n",
    "            #print(token,children)\n",
    "par "
   ]
  },
  {
   "cell_type": "code",
   "execution_count": 4,
   "metadata": {},
   "outputs": [
    {
     "data": {
      "text/plain": [
       "{'head': [],\n",
       " 'torso': [['red', 'stripped', 'and', 'blue', 'or', 'green', 'and', 'white'],\n",
       "  'shirt'],\n",
       " 'leg': [],\n",
       " 'feet': []}"
      ]
     },
     "execution_count": 4,
     "metadata": {},
     "output_type": "execute_result"
    }
   ],
   "source": [
    "ele = list(body.keys())\n",
    "human = dict()\n",
    "for j in par:\n",
    "    for i in ele:\n",
    "        if(j[1] in body[i]):\n",
    "            human.update({i:j})\n",
    "        else:\n",
    "            if(i not in list(human.keys())):\n",
    "                human.update({i:[]})\n",
    "human"
   ]
  },
  {
   "cell_type": "code",
   "execution_count": null,
   "metadata": {},
   "outputs": [],
   "source": []
  }
 ],
 "metadata": {
  "kernelspec": {
   "display_name": "Python 3",
   "language": "python",
   "name": "python3"
  },
  "language_info": {
   "codemirror_mode": {
    "name": "ipython",
    "version": 3
   },
   "file_extension": ".py",
   "mimetype": "text/x-python",
   "name": "python",
   "nbconvert_exporter": "python",
   "pygments_lexer": "ipython3",
   "version": "3.6.5"
  }
 },
 "nbformat": 4,
 "nbformat_minor": 2
}
