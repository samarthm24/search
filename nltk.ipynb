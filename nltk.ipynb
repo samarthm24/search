{
 "cells": [
  {
   "cell_type": "code",
   "execution_count": 4,
   "metadata": {
    "collapsed": true
   },
   "outputs": [],
   "source": [
    "import nltk\n",
    "import datetime"
   ]
  },
  {
   "cell_type": "code",
   "execution_count": 5,
   "metadata": {},
   "outputs": [
    {
     "name": "stdout",
     "output_type": "stream",
     "text": [
      "[[('Food', 'NN'), ('was', 'VBD'), ('not', 'RB'), ('too', 'RB'), ('good', 'JJ'), ('.', '.')]]\n"
     ]
    }
   ],
   "source": [
    "#query = \"He is wearing white shirt ,black pant and curvy hat.\"\n",
    "\n",
    "query = \"Food was not too good .\"\n",
    "\n",
    "#Tokenizing\n",
    "sentences = nltk.sent_tokenize(query)\n",
    "sentences = [nltk.word_tokenize(sent) for sent in sentences]\n",
    "pos = [nltk.pos_tag(sent) for sent in sentences]\n",
    "print(pos)\n",
    "\n"
   ]
  },
  {
   "cell_type": "code",
   "execution_count": 29,
   "metadata": {
    "collapsed": true
   },
   "outputs": [],
   "source": [
    "par=[]\n",
    "for i in pos:\n",
    "    for j in range(len(i)):\n",
    "        temp=[]\n",
    "        if(i[j][1]=='JJ'):\n",
    "            if(i[j+1][1]=='NN'):\n",
    "                temp.append(i[j][0])\n",
    "                temp.append(i[j+1][0])\n",
    "                par.append(temp)\n",
    "        else:\n",
    "            if(i[j][1]=='NN' and i[j-1][1]!='JJ'):\n",
    "                temp.append('')\n",
    "                temp.append(i[j][0])\n",
    "                par.append(temp)\n",
    "            "
   ]
  },
  {
   "cell_type": "code",
   "execution_count": 30,
   "metadata": {},
   "outputs": [
    {
     "data": {
      "text/plain": [
       "[['white', 'shirt'], ['black', 'pant'], ['', 'curvy'], ['', 'hat']]"
      ]
     },
     "execution_count": 30,
     "metadata": {},
     "output_type": "execute_result"
    }
   ],
   "source": [
    "par"
   ]
  },
  {
   "cell_type": "code",
   "execution_count": 42,
   "metadata": {
    "collapsed": true
   },
   "outputs": [],
   "source": [
    "body={'head':['cap','hat','hair'],'torso':['shirt','tshirt','blazer','suit','sweater','jacket'],'leg':['shorts','pant','jeans','trousers'],'feet':['sandals','flipflops','sneakers','boots','shoes']}\n"
   ]
  },
  {
   "cell_type": "code",
   "execution_count": 32,
   "metadata": {},
   "outputs": [
    {
     "data": {
      "text/plain": [
       "{'feet': [],\n",
       " 'head': ['', 'hat'],\n",
       " 'leg': ['black', 'pant'],\n",
       " 'torso': ['white', 'shirt']}"
      ]
     },
     "execution_count": 32,
     "metadata": {},
     "output_type": "execute_result"
    }
   ],
   "source": [
    "ele = list(body.keys())\n",
    "human = dict()\n",
    "for j in par:\n",
    "    for i in ele:\n",
    "        if(j[1] in body[i]):\n",
    "            human.update({i:j})\n",
    "        else:\n",
    "            if(i not in list(human.keys())):\n",
    "                human.update({i:[]})\n",
    "human"
   ]
  },
  {
   "cell_type": "code",
   "execution_count": null,
   "metadata": {
    "collapsed": true
   },
   "outputs": [],
   "source": []
  }
 ],
 "metadata": {
  "kernelspec": {
   "display_name": "Python 3",
   "language": "python",
   "name": "python3"
  },
  "language_info": {
   "codemirror_mode": {
    "name": "ipython",
    "version": 3
   },
   "file_extension": ".py",
   "mimetype": "text/x-python",
   "name": "python",
   "nbconvert_exporter": "python",
   "pygments_lexer": "ipython3",
   "version": "3.6.5"
  }
 },
 "nbformat": 4,
 "nbformat_minor": 2
}
